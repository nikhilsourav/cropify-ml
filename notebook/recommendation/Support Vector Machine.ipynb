{
 "cells": [
  {
   "cell_type": "markdown",
   "id": "6c70fd9a",
   "metadata": {},
   "source": [
    "<h1 align=\"center\" style=\"color:white;background-color:#247881;padding:40px;margin-bottom:80px;border-radius:10px;font-family:Montserrat\"> \n",
    "    Support Vector Machine\n",
    "</h1>"
   ]
  },
  {
   "cell_type": "markdown",
   "id": "d31a4913",
   "metadata": {},
   "source": [
    "<h2 align=\"center\" style=\"color:white;background-color:#30AADD;padding:20px;border-radius:10px;font-family:Montserrat\"> \n",
    "    Import Libraries \n",
    "</h2>"
   ]
  },
  {
   "cell_type": "code",
   "execution_count": 274,
   "id": "e708a6c5",
   "metadata": {},
   "outputs": [],
   "source": [
    "# work with data\n",
    "import pandas as pd\n",
    "import numpy as np\n",
    "\n",
    "# train_test_split library\n",
    "from sklearn.model_selection import train_test_split\n",
    "\n",
    "# algorithm\n",
    "from sklearn.svm import SVC\n",
    "\n",
    "# pickle\n",
    "import pickle"
   ]
  },
  {
   "cell_type": "markdown",
   "id": "98e5683c",
   "metadata": {},
   "source": [
    "<h2 align=\"center\" style=\"color:white;background-color:#30AADD;padding:20px;border-radius:10px;font-family:Montserrat\"> \n",
    "    Import Dataset \n",
    "</h2>"
   ]
  },
  {
   "cell_type": "code",
   "execution_count": 275,
   "id": "44932a92",
   "metadata": {},
   "outputs": [],
   "source": [
    "# read dataset from sepecific folder\n",
    "\n",
    "inputs = pd.read_csv(\"../../processed_data/recommendation/processed_crop_recommendation_inputs.csv\")\n",
    "outputs = pd.read_csv(\"../../processed_data/recommendation/processed_crop_recommendation_outputs.csv\")"
   ]
  },
  {
   "cell_type": "code",
   "execution_count": 276,
   "id": "1d8b45fd",
   "metadata": {},
   "outputs": [],
   "source": [
    "# trim first column\n",
    "\n",
    "inputs = inputs.iloc[: , 1:]\n",
    "outputs = outputs.iloc[: , 1:]"
   ]
  },
  {
   "cell_type": "code",
   "execution_count": 277,
   "id": "96af5402",
   "metadata": {},
   "outputs": [
    {
     "data": {
      "text/html": [
       "<div>\n",
       "<style scoped>\n",
       "    .dataframe tbody tr th:only-of-type {\n",
       "        vertical-align: middle;\n",
       "    }\n",
       "\n",
       "    .dataframe tbody tr th {\n",
       "        vertical-align: top;\n",
       "    }\n",
       "\n",
       "    .dataframe thead th {\n",
       "        text-align: right;\n",
       "    }\n",
       "</style>\n",
       "<table border=\"1\" class=\"dataframe\">\n",
       "  <thead>\n",
       "    <tr style=\"text-align: right;\">\n",
       "      <th></th>\n",
       "      <th>N</th>\n",
       "      <th>P</th>\n",
       "      <th>K</th>\n",
       "      <th>temperature</th>\n",
       "      <th>humidity</th>\n",
       "      <th>ph</th>\n",
       "      <th>rainfall</th>\n",
       "    </tr>\n",
       "  </thead>\n",
       "  <tbody>\n",
       "    <tr>\n",
       "      <th>0</th>\n",
       "      <td>90</td>\n",
       "      <td>42</td>\n",
       "      <td>43</td>\n",
       "      <td>20.879744</td>\n",
       "      <td>82.002744</td>\n",
       "      <td>6.502985</td>\n",
       "      <td>202.935536</td>\n",
       "    </tr>\n",
       "    <tr>\n",
       "      <th>1</th>\n",
       "      <td>85</td>\n",
       "      <td>58</td>\n",
       "      <td>41</td>\n",
       "      <td>21.770462</td>\n",
       "      <td>80.319644</td>\n",
       "      <td>7.038096</td>\n",
       "      <td>226.655537</td>\n",
       "    </tr>\n",
       "    <tr>\n",
       "      <th>2</th>\n",
       "      <td>60</td>\n",
       "      <td>55</td>\n",
       "      <td>44</td>\n",
       "      <td>23.004459</td>\n",
       "      <td>82.320763</td>\n",
       "      <td>7.840207</td>\n",
       "      <td>263.964248</td>\n",
       "    </tr>\n",
       "    <tr>\n",
       "      <th>3</th>\n",
       "      <td>74</td>\n",
       "      <td>35</td>\n",
       "      <td>40</td>\n",
       "      <td>26.491096</td>\n",
       "      <td>80.158363</td>\n",
       "      <td>6.980401</td>\n",
       "      <td>242.864034</td>\n",
       "    </tr>\n",
       "    <tr>\n",
       "      <th>4</th>\n",
       "      <td>78</td>\n",
       "      <td>42</td>\n",
       "      <td>42</td>\n",
       "      <td>20.130175</td>\n",
       "      <td>81.604873</td>\n",
       "      <td>7.628473</td>\n",
       "      <td>262.717340</td>\n",
       "    </tr>\n",
       "    <tr>\n",
       "      <th>...</th>\n",
       "      <td>...</td>\n",
       "      <td>...</td>\n",
       "      <td>...</td>\n",
       "      <td>...</td>\n",
       "      <td>...</td>\n",
       "      <td>...</td>\n",
       "      <td>...</td>\n",
       "    </tr>\n",
       "    <tr>\n",
       "      <th>2195</th>\n",
       "      <td>107</td>\n",
       "      <td>34</td>\n",
       "      <td>32</td>\n",
       "      <td>26.774637</td>\n",
       "      <td>66.413269</td>\n",
       "      <td>6.780064</td>\n",
       "      <td>177.774507</td>\n",
       "    </tr>\n",
       "    <tr>\n",
       "      <th>2196</th>\n",
       "      <td>99</td>\n",
       "      <td>15</td>\n",
       "      <td>27</td>\n",
       "      <td>27.417112</td>\n",
       "      <td>56.636362</td>\n",
       "      <td>6.086922</td>\n",
       "      <td>127.924610</td>\n",
       "    </tr>\n",
       "    <tr>\n",
       "      <th>2197</th>\n",
       "      <td>118</td>\n",
       "      <td>33</td>\n",
       "      <td>30</td>\n",
       "      <td>24.131797</td>\n",
       "      <td>67.225123</td>\n",
       "      <td>6.362608</td>\n",
       "      <td>173.322839</td>\n",
       "    </tr>\n",
       "    <tr>\n",
       "      <th>2198</th>\n",
       "      <td>117</td>\n",
       "      <td>32</td>\n",
       "      <td>34</td>\n",
       "      <td>26.272418</td>\n",
       "      <td>52.127394</td>\n",
       "      <td>6.758793</td>\n",
       "      <td>127.175293</td>\n",
       "    </tr>\n",
       "    <tr>\n",
       "      <th>2199</th>\n",
       "      <td>104</td>\n",
       "      <td>18</td>\n",
       "      <td>30</td>\n",
       "      <td>23.603016</td>\n",
       "      <td>60.396475</td>\n",
       "      <td>6.779833</td>\n",
       "      <td>140.937041</td>\n",
       "    </tr>\n",
       "  </tbody>\n",
       "</table>\n",
       "<p>2200 rows × 7 columns</p>\n",
       "</div>"
      ],
      "text/plain": [
       "        N   P   K  temperature   humidity        ph    rainfall\n",
       "0      90  42  43    20.879744  82.002744  6.502985  202.935536\n",
       "1      85  58  41    21.770462  80.319644  7.038096  226.655537\n",
       "2      60  55  44    23.004459  82.320763  7.840207  263.964248\n",
       "3      74  35  40    26.491096  80.158363  6.980401  242.864034\n",
       "4      78  42  42    20.130175  81.604873  7.628473  262.717340\n",
       "...   ...  ..  ..          ...        ...       ...         ...\n",
       "2195  107  34  32    26.774637  66.413269  6.780064  177.774507\n",
       "2196   99  15  27    27.417112  56.636362  6.086922  127.924610\n",
       "2197  118  33  30    24.131797  67.225123  6.362608  173.322839\n",
       "2198  117  32  34    26.272418  52.127394  6.758793  127.175293\n",
       "2199  104  18  30    23.603016  60.396475  6.779833  140.937041\n",
       "\n",
       "[2200 rows x 7 columns]"
      ]
     },
     "execution_count": 277,
     "metadata": {},
     "output_type": "execute_result"
    }
   ],
   "source": [
    "# print\n",
    "\n",
    "inputs"
   ]
  },
  {
   "cell_type": "code",
   "execution_count": 278,
   "id": "b8f4a74a",
   "metadata": {},
   "outputs": [
    {
     "data": {
      "text/html": [
       "<div>\n",
       "<style scoped>\n",
       "    .dataframe tbody tr th:only-of-type {\n",
       "        vertical-align: middle;\n",
       "    }\n",
       "\n",
       "    .dataframe tbody tr th {\n",
       "        vertical-align: top;\n",
       "    }\n",
       "\n",
       "    .dataframe thead th {\n",
       "        text-align: right;\n",
       "    }\n",
       "</style>\n",
       "<table border=\"1\" class=\"dataframe\">\n",
       "  <thead>\n",
       "    <tr style=\"text-align: right;\">\n",
       "      <th></th>\n",
       "      <th>crop_converted</th>\n",
       "    </tr>\n",
       "  </thead>\n",
       "  <tbody>\n",
       "    <tr>\n",
       "      <th>0</th>\n",
       "      <td>20</td>\n",
       "    </tr>\n",
       "    <tr>\n",
       "      <th>1</th>\n",
       "      <td>20</td>\n",
       "    </tr>\n",
       "    <tr>\n",
       "      <th>2</th>\n",
       "      <td>20</td>\n",
       "    </tr>\n",
       "    <tr>\n",
       "      <th>3</th>\n",
       "      <td>20</td>\n",
       "    </tr>\n",
       "    <tr>\n",
       "      <th>4</th>\n",
       "      <td>20</td>\n",
       "    </tr>\n",
       "    <tr>\n",
       "      <th>...</th>\n",
       "      <td>...</td>\n",
       "    </tr>\n",
       "    <tr>\n",
       "      <th>2195</th>\n",
       "      <td>5</td>\n",
       "    </tr>\n",
       "    <tr>\n",
       "      <th>2196</th>\n",
       "      <td>5</td>\n",
       "    </tr>\n",
       "    <tr>\n",
       "      <th>2197</th>\n",
       "      <td>5</td>\n",
       "    </tr>\n",
       "    <tr>\n",
       "      <th>2198</th>\n",
       "      <td>5</td>\n",
       "    </tr>\n",
       "    <tr>\n",
       "      <th>2199</th>\n",
       "      <td>5</td>\n",
       "    </tr>\n",
       "  </tbody>\n",
       "</table>\n",
       "<p>2200 rows × 1 columns</p>\n",
       "</div>"
      ],
      "text/plain": [
       "      crop_converted\n",
       "0                 20\n",
       "1                 20\n",
       "2                 20\n",
       "3                 20\n",
       "4                 20\n",
       "...              ...\n",
       "2195               5\n",
       "2196               5\n",
       "2197               5\n",
       "2198               5\n",
       "2199               5\n",
       "\n",
       "[2200 rows x 1 columns]"
      ]
     },
     "execution_count": 278,
     "metadata": {},
     "output_type": "execute_result"
    }
   ],
   "source": [
    "# print\n",
    "\n",
    "outputs"
   ]
  },
  {
   "cell_type": "code",
   "execution_count": 279,
   "id": "c2238174",
   "metadata": {},
   "outputs": [],
   "source": [
    "# mapped values from labelEncoder\n",
    "\n",
    "mp = {\n",
    " 0: 'apple',\n",
    " 1: 'banana',\n",
    " 2: 'blackgram',\n",
    " 3: 'chickpea',\n",
    " 4: 'coconut',\n",
    " 5: 'coffee',\n",
    " 6: 'cotton',\n",
    " 7: 'grapes',\n",
    " 8: 'jute',\n",
    " 9: 'kidneybeans',\n",
    " 10: 'lentil',\n",
    " 11: 'maize',\n",
    " 12: 'mango',\n",
    " 13: 'mothbeans',\n",
    " 14: 'mungbean',\n",
    " 15: 'muskmelon',\n",
    " 16: 'orange',\n",
    " 17: 'papaya',\n",
    " 18: 'pigeonpeas',\n",
    " 19: 'pomegranate',\n",
    " 20: 'rice',\n",
    " 21: 'watermelon'\n",
    "}"
   ]
  },
  {
   "cell_type": "markdown",
   "id": "97f1df14",
   "metadata": {},
   "source": [
    "<h2 align=\"center\" style=\"color:white;background-color:#30AADD;padding:20px;border-radius:10px;font-family:Montserrat\"> \n",
    "    Apply SVM Algorithm \n",
    "</h2>"
   ]
  },
  {
   "cell_type": "markdown",
   "id": "7c96d529",
   "metadata": {},
   "source": [
    "<h4 align=\"left\" style=\"color:white;background-color:#94DAFF;padding:20px;margin-top:40px;border-radius:10px;font-family:Montserrat;display:inline-block;width:500px\"> \n",
    "    Utility class\n",
    "</h4>"
   ]
  },
  {
   "cell_type": "code",
   "execution_count": 280,
   "id": "372e69e2",
   "metadata": {},
   "outputs": [],
   "source": [
    "class c:\n",
    "    HEADER      = '\\033[95m'\n",
    "    BLUE        = '\\033[94m'\n",
    "    CYAN        = '\\033[96m'\n",
    "    GREEN       = '\\033[92m'\n",
    "    WARNING     = '\\033[93m'\n",
    "    FAIL        = '\\033[91m'\n",
    "    ENDC        = '\\033[0m'\n",
    "    BOLD        = '\\033[1m'\n",
    "    UNDERLINE   = '\\033[4m'"
   ]
  },
  {
   "cell_type": "markdown",
   "id": "76e421d8",
   "metadata": {},
   "source": [
    "<h4 align=\"left\" style=\"color:white;background-color:#94DAFF;padding:20px;margin-top:40px;border-radius:10px;font-family:Montserrat;display:inline-block;width:500px\"> \n",
    "    Split data into training (80%) and testing (20%) sets\n",
    "</h4>"
   ]
  },
  {
   "cell_type": "code",
   "execution_count": 281,
   "id": "a29fd6f5",
   "metadata": {},
   "outputs": [],
   "source": [
    "# split into 80% train and 20% test\n",
    "\n",
    "X_train, X_test, y_train, y_test = train_test_split(inputs, outputs, test_size = 0.2)"
   ]
  },
  {
   "cell_type": "markdown",
   "id": "5d76c3af",
   "metadata": {},
   "source": [
    "<h4 align=\"left\" style=\"color:white;background-color:#94DAFF;padding:20px;margin-top:40px;border-radius:10px;font-family:Montserrat;display:inline-block;width:500px\"> \n",
    "    Create object\n",
    "</h4>"
   ]
  },
  {
   "cell_type": "code",
   "execution_count": 282,
   "id": "9585a7c3",
   "metadata": {},
   "outputs": [],
   "source": [
    "# create object of algorithm class and store in respective variables\n",
    "\n",
    "lin = SVC(kernel = 'linear')\n",
    "rbf = SVC(kernel = 'rbf')\n",
    "pol = SVC(kernel = 'poly', degree = 6)"
   ]
  },
  {
   "cell_type": "markdown",
   "id": "1081cc6d",
   "metadata": {},
   "source": [
    "<h4 align=\"left\" style=\"color:white;background-color:#94DAFF;padding:20px;margin-top:40px;border-radius:10px;font-family:Montserrat;display:inline-block;width:500px\"> \n",
    "    Train on training data\n",
    "</h4>"
   ]
  },
  {
   "cell_type": "code",
   "execution_count": 283,
   "id": "6d10b209",
   "metadata": {},
   "outputs": [
    {
     "data": {
      "text/plain": [
       "SVC(degree=6, kernel='poly')"
      ]
     },
     "execution_count": 283,
     "metadata": {},
     "output_type": "execute_result"
    }
   ],
   "source": [
    "# fitting means training the model using available data points\n",
    "\n",
    "lin.fit(X_train, y_train.values.ravel())\n",
    "rbf.fit(X_train, y_train.values.ravel())\n",
    "pol.fit(X_train, y_train.values.ravel())"
   ]
  },
  {
   "cell_type": "markdown",
   "id": "7430ca64",
   "metadata": {},
   "source": [
    "<h4 align=\"left\" style=\"color:white;background-color:#94DAFF;padding:20px;margin-top:40px;border-radius:10px;font-family:Montserrat;display:inline-block;width:500px\"> \n",
    "    Get recommendation on testing data\n",
    "</h4>"
   ]
  },
  {
   "cell_type": "code",
   "execution_count": 284,
   "id": "e4bc1819",
   "metadata": {},
   "outputs": [
    {
     "name": "stdout",
     "output_type": "stream",
     "text": [
      "\n",
      "\u001b[1m======================= Linear Kernel =======================\u001b[0m\n",
      "\n",
      "\n",
      "\u001b[1mInput:\u001b[0m\n",
      "\n",
      "        N   P   K  temperature   humidity        ph    rainfall\n",
      "995    33  23  45    20.002190  85.836182  7.116539  112.337046\n",
      "2050   75  56  44    25.274634  73.745958  6.109478  168.043228\n",
      "596    22  51  16    27.965837  61.349001  8.639586   70.104721\n",
      "1002  108  92  53    27.400536  82.962213  6.276800  104.937800\n",
      "1425  117  25  53    29.118585  92.125430  6.413927   24.520202\n",
      "\n",
      "\u001b[1mRecommended Output:\u001b[0m\n",
      "\n",
      "['pomegranate' 'jute' 'mothbeans' 'banana' 'muskmelon']\n",
      "\n",
      "\n",
      "\u001b[1m======================= RBF Kernel =======================\u001b[0m\n",
      "\n",
      "\n",
      "\u001b[1mInput:\u001b[0m\n",
      "\n",
      "        N   P   K  temperature   humidity        ph    rainfall\n",
      "995    33  23  45    20.002190  85.836182  7.116539  112.337046\n",
      "2050   75  56  44    25.274634  73.745958  6.109478  168.043228\n",
      "596    22  51  16    27.965837  61.349001  8.639586   70.104721\n",
      "1002  108  92  53    27.400536  82.962213  6.276800  104.937800\n",
      "1425  117  25  53    29.118585  92.125430  6.413927   24.520202\n",
      "\n",
      "\u001b[1mRecommended Output:\u001b[0m\n",
      "\n",
      "['pomegranate' 'jute' 'mothbeans' 'banana' 'muskmelon']\n",
      "\n",
      "\n",
      "\u001b[1m======================= Pol Kernel =======================\u001b[0m\n",
      "\n",
      "\n",
      "\u001b[1mInput:\u001b[0m\n",
      "\n",
      "        N   P   K  temperature   humidity        ph    rainfall\n",
      "995    33  23  45    20.002190  85.836182  7.116539  112.337046\n",
      "2050   75  56  44    25.274634  73.745958  6.109478  168.043228\n",
      "596    22  51  16    27.965837  61.349001  8.639586   70.104721\n",
      "1002  108  92  53    27.400536  82.962213  6.276800  104.937800\n",
      "1425  117  25  53    29.118585  92.125430  6.413927   24.520202\n",
      "\n",
      "\u001b[1mRecommended Output:\u001b[0m\n",
      "\n",
      "['pomegranate' 'jute' 'mothbeans' 'banana' 'muskmelon']\n",
      "\n"
     ]
    }
   ],
   "source": [
    "# predict using testing data\n",
    "reccomendation_lin = lin.predict(X_test)\n",
    "reccomendation_rbf = rbf.predict(X_test)\n",
    "reccomendation_pol = pol.predict(X_test)\n",
    "\n",
    "\n",
    "# label encoder back to string\n",
    "final_result_lin = []\n",
    "final_result_rbf = []\n",
    "final_result_pol = []\n",
    "\n",
    "for x in reccomendation_lin:\n",
    "    final_result_lin.append(mp[x])\n",
    "for x in reccomendation_rbf:\n",
    "    final_result_rbf.append(mp[x])\n",
    "for x in reccomendation_pol:\n",
    "    final_result_pol.append(mp[x])\n",
    "\n",
    "# convert back to np array\n",
    "final_result_lin = np.array(final_result_lin)\n",
    "final_result_rbf = np.array(final_result_rbf)\n",
    "final_result_pol = np.array(final_result_pol)\n",
    "\n",
    "\n",
    "print(f\"\\n{c.BOLD}======================= Linear Kernel ======================={c.ENDC}\\n\")\n",
    "print(f\"\\n{c.BOLD}Input:{c.ENDC}\\n\\n{X_test[0:5]}\\n\\n{c.BOLD}Recommended Output:{c.ENDC}\\n\\n{final_result_lin[0:5]}\\n\")\n",
    "\n",
    "print(f\"\\n{c.BOLD}======================= RBF Kernel ======================={c.ENDC}\\n\")\n",
    "print(f\"\\n{c.BOLD}Input:{c.ENDC}\\n\\n{X_test[0:5]}\\n\\n{c.BOLD}Recommended Output:{c.ENDC}\\n\\n{final_result_lin[0:5]}\\n\")\n",
    "\n",
    "print(f\"\\n{c.BOLD}======================= Pol Kernel ======================={c.ENDC}\\n\")\n",
    "print(f\"\\n{c.BOLD}Input:{c.ENDC}\\n\\n{X_test[0:5]}\\n\\n{c.BOLD}Recommended Output:{c.ENDC}\\n\\n{final_result_lin[0:5]}\\n\")"
   ]
  },
  {
   "cell_type": "markdown",
   "id": "b9f02384",
   "metadata": {},
   "source": [
    "<h4 align=\"left\" style=\"color:white;background-color:#94DAFF;padding:20px;margin-top:40px;border-radius:10px;font-family:Montserrat;display:inline-block;width:500px\"> \n",
    "    Accuracy of model\n",
    "</h4>"
   ]
  },
  {
   "cell_type": "code",
   "execution_count": 285,
   "id": "e08f2e89",
   "metadata": {},
   "outputs": [
    {
     "name": "stdout",
     "output_type": "stream",
     "text": [
      "\n",
      "Accuracy of SVM algorithm using Linear kernal is: \u001b[1m93.99 %\u001b[0m\n",
      "\n",
      "\n",
      "Accuracy of SVM algorithm using Rbf kernal is: \u001b[1m72.24 %\u001b[0m\n",
      "\n",
      "\n",
      "Accuracy of SVM algorithm using Polynomial kernal is: \u001b[1m87.73 %\u001b[0m\n",
      "\n"
     ]
    }
   ],
   "source": [
    "accuracy_lin = lin.score(X_test, y_test)\n",
    "accuracy_rbf = rbf.score(X_test, y_test)\n",
    "accuracy_pol = pol.score(X_test, y_test)\n",
    "\n",
    "print(f\"\\nAccuracy of SVM algorithm using Linear kernal is: {c.BOLD}{round(accuracy_lin * 100.0, 2)} %{c.ENDC}\\n\")\n",
    "print(f\"\\nAccuracy of SVM algorithm using Rbf kernal is: {c.BOLD}{round(accuracy_rbf * 100.0, 2)} %{c.ENDC}\\n\")\n",
    "print(f\"\\nAccuracy of SVM algorithm using Polynomial kernal is: {c.BOLD}{round(accuracy_pol * 100.0, 2)} %{c.ENDC}\\n\")"
   ]
  },
  {
   "cell_type": "markdown",
   "id": "37734a10",
   "metadata": {},
   "source": [
    "<h4 align=\"left\" style=\"color:white;background-color:#94DAFF;padding:20px;margin-top:40px;border-radius:10px;font-family:Montserrat;display:inline-block;width:500px\"> \n",
    "    Export model using pickle\n",
    "</h4>"
   ]
  },
  {
   "cell_type": "code",
   "execution_count": 286,
   "id": "d70db232",
   "metadata": {},
   "outputs": [],
   "source": [
    "with open('../../model/recommendation/SVM_LIN_MODEL', 'wb') as f:\n",
    "    pickle.dump(lin, f)\n",
    "with open('../../model/recommendation/SVM_RBF_MODEL', 'wb') as f:\n",
    "    pickle.dump(rbf, f)\n",
    "with open('../../model/recommendation/SVM_POL_MODEL', 'wb') as f:\n",
    "    pickle.dump(pol, f)"
   ]
  }
 ],
 "metadata": {
  "kernelspec": {
   "display_name": "Python 3 (ipykernel)",
   "language": "python",
   "name": "python3"
  },
  "language_info": {
   "codemirror_mode": {
    "name": "ipython",
    "version": 3
   },
   "file_extension": ".py",
   "mimetype": "text/x-python",
   "name": "python",
   "nbconvert_exporter": "python",
   "pygments_lexer": "ipython3",
   "version": "3.9.7"
  }
 },
 "nbformat": 4,
 "nbformat_minor": 5
}
