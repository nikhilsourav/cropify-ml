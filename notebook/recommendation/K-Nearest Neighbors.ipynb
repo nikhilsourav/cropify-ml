{
 "cells": [
  {
   "cell_type": "markdown",
   "id": "6c70fd9a",
   "metadata": {},
   "source": [
    "<h1 align=\"center\" style=\"color:white;background-color:#247881;padding:40px;margin-bottom:80px;border-radius:10px;font-family:Montserrat\"> \n",
    "    K-Nearest Neighbors\n",
    "</h1>"
   ]
  },
  {
   "cell_type": "markdown",
   "id": "d31a4913",
   "metadata": {},
   "source": [
    "<h2 align=\"center\" style=\"color:white;background-color:#30AADD;padding:20px;border-radius:10px;font-family:Montserrat\"> \n",
    "    Import Libraries \n",
    "</h2>"
   ]
  },
  {
   "cell_type": "code",
   "execution_count": 15,
   "id": "e708a6c5",
   "metadata": {},
   "outputs": [],
   "source": [
    "# work with data\n",
    "import pandas as pd\n",
    "import numpy as np\n",
    "\n",
    "# train_test_split library\n",
    "from sklearn.model_selection import train_test_split\n",
    "\n",
    "# algorithm\n",
    "from sklearn.neighbors import KNeighborsClassifier\n",
    "\n",
    "# pickle\n",
    "import pickle"
   ]
  },
  {
   "cell_type": "markdown",
   "id": "98e5683c",
   "metadata": {},
   "source": [
    "<h2 align=\"center\" style=\"color:white;background-color:#30AADD;padding:20px;border-radius:10px;font-family:Montserrat\"> \n",
    "    Import Dataset \n",
    "</h2>"
   ]
  },
  {
   "cell_type": "code",
   "execution_count": 16,
   "id": "44932a92",
   "metadata": {},
   "outputs": [],
   "source": [
    "# read dataset from sepecific folder\n",
    "\n",
    "inputs = pd.read_csv(\"../../processed_data/recommendation/processed_crop_recommendation_inputs.csv\")\n",
    "outputs = pd.read_csv(\"../../processed_data/recommendation/processed_crop_recommendation_outputs.csv\")"
   ]
  },
  {
   "cell_type": "code",
   "execution_count": 17,
   "id": "1d8b45fd",
   "metadata": {},
   "outputs": [],
   "source": [
    "# trim first column\n",
    "\n",
    "inputs = inputs.iloc[: , 1:]\n",
    "outputs = outputs.iloc[: , 1:]"
   ]
  },
  {
   "cell_type": "code",
   "execution_count": 18,
   "id": "96af5402",
   "metadata": {},
   "outputs": [
    {
     "data": {
      "text/html": [
       "<div>\n",
       "<style scoped>\n",
       "    .dataframe tbody tr th:only-of-type {\n",
       "        vertical-align: middle;\n",
       "    }\n",
       "\n",
       "    .dataframe tbody tr th {\n",
       "        vertical-align: top;\n",
       "    }\n",
       "\n",
       "    .dataframe thead th {\n",
       "        text-align: right;\n",
       "    }\n",
       "</style>\n",
       "<table border=\"1\" class=\"dataframe\">\n",
       "  <thead>\n",
       "    <tr style=\"text-align: right;\">\n",
       "      <th></th>\n",
       "      <th>N</th>\n",
       "      <th>P</th>\n",
       "      <th>K</th>\n",
       "      <th>temperature</th>\n",
       "      <th>humidity</th>\n",
       "      <th>ph</th>\n",
       "      <th>rainfall</th>\n",
       "    </tr>\n",
       "  </thead>\n",
       "  <tbody>\n",
       "    <tr>\n",
       "      <th>0</th>\n",
       "      <td>90</td>\n",
       "      <td>42</td>\n",
       "      <td>43</td>\n",
       "      <td>20.879744</td>\n",
       "      <td>82.002744</td>\n",
       "      <td>6.502985</td>\n",
       "      <td>202.935536</td>\n",
       "    </tr>\n",
       "    <tr>\n",
       "      <th>1</th>\n",
       "      <td>85</td>\n",
       "      <td>58</td>\n",
       "      <td>41</td>\n",
       "      <td>21.770462</td>\n",
       "      <td>80.319644</td>\n",
       "      <td>7.038096</td>\n",
       "      <td>226.655537</td>\n",
       "    </tr>\n",
       "    <tr>\n",
       "      <th>2</th>\n",
       "      <td>60</td>\n",
       "      <td>55</td>\n",
       "      <td>44</td>\n",
       "      <td>23.004459</td>\n",
       "      <td>82.320763</td>\n",
       "      <td>7.840207</td>\n",
       "      <td>263.964248</td>\n",
       "    </tr>\n",
       "    <tr>\n",
       "      <th>3</th>\n",
       "      <td>74</td>\n",
       "      <td>35</td>\n",
       "      <td>40</td>\n",
       "      <td>26.491096</td>\n",
       "      <td>80.158363</td>\n",
       "      <td>6.980401</td>\n",
       "      <td>242.864034</td>\n",
       "    </tr>\n",
       "    <tr>\n",
       "      <th>4</th>\n",
       "      <td>78</td>\n",
       "      <td>42</td>\n",
       "      <td>42</td>\n",
       "      <td>20.130175</td>\n",
       "      <td>81.604873</td>\n",
       "      <td>7.628473</td>\n",
       "      <td>262.717340</td>\n",
       "    </tr>\n",
       "    <tr>\n",
       "      <th>...</th>\n",
       "      <td>...</td>\n",
       "      <td>...</td>\n",
       "      <td>...</td>\n",
       "      <td>...</td>\n",
       "      <td>...</td>\n",
       "      <td>...</td>\n",
       "      <td>...</td>\n",
       "    </tr>\n",
       "    <tr>\n",
       "      <th>2195</th>\n",
       "      <td>107</td>\n",
       "      <td>34</td>\n",
       "      <td>32</td>\n",
       "      <td>26.774637</td>\n",
       "      <td>66.413269</td>\n",
       "      <td>6.780064</td>\n",
       "      <td>177.774507</td>\n",
       "    </tr>\n",
       "    <tr>\n",
       "      <th>2196</th>\n",
       "      <td>99</td>\n",
       "      <td>15</td>\n",
       "      <td>27</td>\n",
       "      <td>27.417112</td>\n",
       "      <td>56.636362</td>\n",
       "      <td>6.086922</td>\n",
       "      <td>127.924610</td>\n",
       "    </tr>\n",
       "    <tr>\n",
       "      <th>2197</th>\n",
       "      <td>118</td>\n",
       "      <td>33</td>\n",
       "      <td>30</td>\n",
       "      <td>24.131797</td>\n",
       "      <td>67.225123</td>\n",
       "      <td>6.362608</td>\n",
       "      <td>173.322839</td>\n",
       "    </tr>\n",
       "    <tr>\n",
       "      <th>2198</th>\n",
       "      <td>117</td>\n",
       "      <td>32</td>\n",
       "      <td>34</td>\n",
       "      <td>26.272418</td>\n",
       "      <td>52.127394</td>\n",
       "      <td>6.758793</td>\n",
       "      <td>127.175293</td>\n",
       "    </tr>\n",
       "    <tr>\n",
       "      <th>2199</th>\n",
       "      <td>104</td>\n",
       "      <td>18</td>\n",
       "      <td>30</td>\n",
       "      <td>23.603016</td>\n",
       "      <td>60.396475</td>\n",
       "      <td>6.779833</td>\n",
       "      <td>140.937041</td>\n",
       "    </tr>\n",
       "  </tbody>\n",
       "</table>\n",
       "<p>2200 rows × 7 columns</p>\n",
       "</div>"
      ],
      "text/plain": [
       "        N   P   K  temperature   humidity        ph    rainfall\n",
       "0      90  42  43    20.879744  82.002744  6.502985  202.935536\n",
       "1      85  58  41    21.770462  80.319644  7.038096  226.655537\n",
       "2      60  55  44    23.004459  82.320763  7.840207  263.964248\n",
       "3      74  35  40    26.491096  80.158363  6.980401  242.864034\n",
       "4      78  42  42    20.130175  81.604873  7.628473  262.717340\n",
       "...   ...  ..  ..          ...        ...       ...         ...\n",
       "2195  107  34  32    26.774637  66.413269  6.780064  177.774507\n",
       "2196   99  15  27    27.417112  56.636362  6.086922  127.924610\n",
       "2197  118  33  30    24.131797  67.225123  6.362608  173.322839\n",
       "2198  117  32  34    26.272418  52.127394  6.758793  127.175293\n",
       "2199  104  18  30    23.603016  60.396475  6.779833  140.937041\n",
       "\n",
       "[2200 rows x 7 columns]"
      ]
     },
     "execution_count": 18,
     "metadata": {},
     "output_type": "execute_result"
    }
   ],
   "source": [
    "# print\n",
    "\n",
    "inputs"
   ]
  },
  {
   "cell_type": "code",
   "execution_count": 19,
   "id": "b8f4a74a",
   "metadata": {},
   "outputs": [
    {
     "data": {
      "text/html": [
       "<div>\n",
       "<style scoped>\n",
       "    .dataframe tbody tr th:only-of-type {\n",
       "        vertical-align: middle;\n",
       "    }\n",
       "\n",
       "    .dataframe tbody tr th {\n",
       "        vertical-align: top;\n",
       "    }\n",
       "\n",
       "    .dataframe thead th {\n",
       "        text-align: right;\n",
       "    }\n",
       "</style>\n",
       "<table border=\"1\" class=\"dataframe\">\n",
       "  <thead>\n",
       "    <tr style=\"text-align: right;\">\n",
       "      <th></th>\n",
       "      <th>crop_converted</th>\n",
       "    </tr>\n",
       "  </thead>\n",
       "  <tbody>\n",
       "    <tr>\n",
       "      <th>0</th>\n",
       "      <td>20</td>\n",
       "    </tr>\n",
       "    <tr>\n",
       "      <th>1</th>\n",
       "      <td>20</td>\n",
       "    </tr>\n",
       "    <tr>\n",
       "      <th>2</th>\n",
       "      <td>20</td>\n",
       "    </tr>\n",
       "    <tr>\n",
       "      <th>3</th>\n",
       "      <td>20</td>\n",
       "    </tr>\n",
       "    <tr>\n",
       "      <th>4</th>\n",
       "      <td>20</td>\n",
       "    </tr>\n",
       "    <tr>\n",
       "      <th>...</th>\n",
       "      <td>...</td>\n",
       "    </tr>\n",
       "    <tr>\n",
       "      <th>2195</th>\n",
       "      <td>5</td>\n",
       "    </tr>\n",
       "    <tr>\n",
       "      <th>2196</th>\n",
       "      <td>5</td>\n",
       "    </tr>\n",
       "    <tr>\n",
       "      <th>2197</th>\n",
       "      <td>5</td>\n",
       "    </tr>\n",
       "    <tr>\n",
       "      <th>2198</th>\n",
       "      <td>5</td>\n",
       "    </tr>\n",
       "    <tr>\n",
       "      <th>2199</th>\n",
       "      <td>5</td>\n",
       "    </tr>\n",
       "  </tbody>\n",
       "</table>\n",
       "<p>2200 rows × 1 columns</p>\n",
       "</div>"
      ],
      "text/plain": [
       "      crop_converted\n",
       "0                 20\n",
       "1                 20\n",
       "2                 20\n",
       "3                 20\n",
       "4                 20\n",
       "...              ...\n",
       "2195               5\n",
       "2196               5\n",
       "2197               5\n",
       "2198               5\n",
       "2199               5\n",
       "\n",
       "[2200 rows x 1 columns]"
      ]
     },
     "execution_count": 19,
     "metadata": {},
     "output_type": "execute_result"
    }
   ],
   "source": [
    "# print\n",
    "\n",
    "outputs"
   ]
  },
  {
   "cell_type": "code",
   "execution_count": 20,
   "id": "c2238174",
   "metadata": {},
   "outputs": [],
   "source": [
    "# mapped values from labelEncoder\n",
    "\n",
    "mp = {\n",
    " 0: 'apple',\n",
    " 1: 'banana',\n",
    " 2: 'blackgram',\n",
    " 3: 'chickpea',\n",
    " 4: 'coconut',\n",
    " 5: 'coffee',\n",
    " 6: 'cotton',\n",
    " 7: 'grapes',\n",
    " 8: 'jute',\n",
    " 9: 'kidneybeans',\n",
    " 10: 'lentil',\n",
    " 11: 'maize',\n",
    " 12: 'mango',\n",
    " 13: 'mothbeans',\n",
    " 14: 'mungbean',\n",
    " 15: 'muskmelon',\n",
    " 16: 'orange',\n",
    " 17: 'papaya',\n",
    " 18: 'pigeonpeas',\n",
    " 19: 'pomegranate',\n",
    " 20: 'rice',\n",
    " 21: 'watermelon'\n",
    "}"
   ]
  },
  {
   "cell_type": "markdown",
   "id": "97f1df14",
   "metadata": {},
   "source": [
    "<h2 align=\"center\" style=\"color:white;background-color:#30AADD;padding:20px;border-radius:10px;font-family:Montserrat\"> \n",
    "    Apply KNN Algorithm\n",
    "</h2>"
   ]
  },
  {
   "cell_type": "markdown",
   "id": "7c96d529",
   "metadata": {},
   "source": [
    "<h4 align=\"left\" style=\"color:white;background-color:#94DAFF;padding:20px;margin-top:40px;border-radius:10px;font-family:Montserrat;display:inline-block;width:500px\"> \n",
    "    Utility class\n",
    "</h4>"
   ]
  },
  {
   "cell_type": "code",
   "execution_count": 21,
   "id": "372e69e2",
   "metadata": {},
   "outputs": [],
   "source": [
    "class c:\n",
    "    HEADER      = '\\033[95m'\n",
    "    BLUE        = '\\033[94m'\n",
    "    CYAN        = '\\033[96m'\n",
    "    GREEN       = '\\033[92m'\n",
    "    WARNING     = '\\033[93m'\n",
    "    FAIL        = '\\033[91m'\n",
    "    ENDC        = '\\033[0m'\n",
    "    BOLD        = '\\033[1m'\n",
    "    UNDERLINE   = '\\033[4m'"
   ]
  },
  {
   "cell_type": "markdown",
   "id": "76e421d8",
   "metadata": {},
   "source": [
    "<h4 align=\"left\" style=\"color:white;background-color:#94DAFF;padding:20px;margin-top:40px;border-radius:10px;font-family:Montserrat;display:inline-block;width:500px\"> \n",
    "    Split data into training (80%) and testing (20%) sets\n",
    "</h4>"
   ]
  },
  {
   "cell_type": "code",
   "execution_count": 22,
   "id": "a29fd6f5",
   "metadata": {},
   "outputs": [],
   "source": [
    "# split into 80% train and 20% test\n",
    "\n",
    "X_train, X_test, y_train, y_test = train_test_split(inputs, outputs, test_size = 0.2)"
   ]
  },
  {
   "cell_type": "markdown",
   "id": "5d76c3af",
   "metadata": {},
   "source": [
    "<h4 align=\"left\" style=\"color:white;background-color:#94DAFF;padding:20px;margin-top:40px;border-radius:10px;font-family:Montserrat;display:inline-block;width:500px\"> \n",
    "    Create object\n",
    "</h4>"
   ]
  },
  {
   "cell_type": "code",
   "execution_count": 23,
   "id": "9585a7c3",
   "metadata": {},
   "outputs": [],
   "source": [
    "# create object of algorithm class and store in 'knn' variable\n",
    "\n",
    "knn = KNeighborsClassifier(n_neighbors = 3)"
   ]
  },
  {
   "cell_type": "markdown",
   "id": "1081cc6d",
   "metadata": {},
   "source": [
    "<h4 align=\"left\" style=\"color:white;background-color:#94DAFF;padding:20px;margin-top:40px;border-radius:10px;font-family:Montserrat;display:inline-block;width:500px\"> \n",
    "    Train on training data\n",
    "</h4>"
   ]
  },
  {
   "cell_type": "code",
   "execution_count": 24,
   "id": "6d10b209",
   "metadata": {},
   "outputs": [
    {
     "data": {
      "text/plain": [
       "KNeighborsClassifier(n_neighbors=3)"
      ]
     },
     "execution_count": 24,
     "metadata": {},
     "output_type": "execute_result"
    }
   ],
   "source": [
    "# fitting means training the model using available data points\n",
    "\n",
    "knn.fit(X_train, y_train.values.ravel())"
   ]
  },
  {
   "cell_type": "markdown",
   "id": "7430ca64",
   "metadata": {},
   "source": [
    "<h4 align=\"left\" style=\"color:white;background-color:#94DAFF;padding:20px;margin-top:40px;border-radius:10px;font-family:Montserrat;display:inline-block;width:500px\"> \n",
    "    Get recommendation on testing data\n",
    "</h4>"
   ]
  },
  {
   "cell_type": "code",
   "execution_count": 25,
   "id": "e4bc1819",
   "metadata": {},
   "outputs": [
    {
     "name": "stdout",
     "output_type": "stream",
     "text": [
      "\n",
      "\u001b[1mInput:\u001b[0m\n",
      "\n",
      "        N   P   K  temperature   humidity        ph   rainfall\n",
      "149    63  43  17    19.288899  65.470508  6.807488  71.319531\n",
      "1922  107  42  24    22.046129  84.629783  6.144632  86.007587\n",
      "525    36  56  20    25.412377  49.664743  7.437078  31.874170\n",
      "1128   15  27  28    33.803987  46.128661  4.507524  90.825492\n",
      "1116   37  38  32    31.857449  45.531063  5.417341  91.558458\n",
      "\n",
      "\u001b[1mRecommended Output:\u001b[0m\n",
      "\n",
      "['maize' 'cotton' 'mothbeans' 'mango' 'mango']\n",
      "\n"
     ]
    }
   ],
   "source": [
    "# predict using testing data\n",
    "reccomendation = knn.predict(X_test)\n",
    "\n",
    "# label encoder back to string\n",
    "final_result = []\n",
    "\n",
    "for x in reccomendation:\n",
    "    final_result.append(mp[x])\n",
    "\n",
    "# convert back to np array\n",
    "final_result = np.array(final_result)\n",
    "\n",
    "print(f\"\\n{c.BOLD}Input:{c.ENDC}\\n\\n{X_test[0:5]}\\n\\n{c.BOLD}Recommended Output:{c.ENDC}\\n\\n{final_result[0:5]}\\n\")"
   ]
  },
  {
   "cell_type": "markdown",
   "id": "b9f02384",
   "metadata": {},
   "source": [
    "<h4 align=\"left\" style=\"color:white;background-color:#94DAFF;padding:20px;margin-top:40px;border-radius:10px;font-family:Montserrat;display:inline-block;width:500px\"> \n",
    "    Accuracy of model\n",
    "</h4>"
   ]
  },
  {
   "cell_type": "code",
   "execution_count": 26,
   "id": "e08f2e89",
   "metadata": {},
   "outputs": [
    {
     "name": "stdout",
     "output_type": "stream",
     "text": [
      "\n",
      "Accuracy of K-Nearest Neighbors algorithm is: \u001b[1m95.56 %\u001b[0m\n",
      "\n"
     ]
    }
   ],
   "source": [
    "accuracy = knn.score(X_test, y_test)\n",
    "\n",
    "print(f\"\\nAccuracy of K-Nearest Neighbors algorithm is: {c.BOLD}{round(accuracy * 100.0, 2)} %{c.ENDC}\\n\")"
   ]
  },
  {
   "cell_type": "markdown",
   "id": "37734a10",
   "metadata": {},
   "source": [
    "<h4 align=\"left\" style=\"color:white;background-color:#94DAFF;padding:20px;margin-top:40px;border-radius:10px;font-family:Montserrat;display:inline-block;width:500px\"> \n",
    "    Export model using pickle\n",
    "</h4>"
   ]
  },
  {
   "cell_type": "code",
   "execution_count": 27,
   "id": "d70db232",
   "metadata": {},
   "outputs": [],
   "source": [
    "with open('../../model/recommendation/KNN_MODEL', 'wb') as f:\n",
    "    pickle.dump(knn, f)"
   ]
  },
  {
   "cell_type": "code",
   "execution_count": null,
   "id": "a0b1d020",
   "metadata": {},
   "outputs": [],
   "source": []
  }
 ],
 "metadata": {
  "kernelspec": {
   "display_name": "Python 3 (ipykernel)",
   "language": "python",
   "name": "python3"
  },
  "language_info": {
   "codemirror_mode": {
    "name": "ipython",
    "version": 3
   },
   "file_extension": ".py",
   "mimetype": "text/x-python",
   "name": "python",
   "nbconvert_exporter": "python",
   "pygments_lexer": "ipython3",
   "version": "3.9.7"
  }
 },
 "nbformat": 4,
 "nbformat_minor": 5
}
