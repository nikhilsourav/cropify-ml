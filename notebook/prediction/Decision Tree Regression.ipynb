{
 "cells": [
  {
   "cell_type": "markdown",
   "id": "6c70fd9a",
   "metadata": {},
   "source": [
    "<h1 align=\"center\" style=\"color:white;background-color:#247881;padding:40px;margin-bottom:80px;border-radius:10px;font-family:Montserrat\"> \n",
    "    Decision Tree Regression\n",
    "</h1>"
   ]
  },
  {
   "cell_type": "markdown",
   "id": "d31a4913",
   "metadata": {},
   "source": [
    "<h2 align =\"center\" style=\"color:white;background-color:#30AADD;padding:20px;border-radius:10px;font-family:Montserrat\"> \n",
    "    Import Libraries \n",
    "</h2>"
   ]
  },
  {
   "cell_type": "code",
   "execution_count": 444,
   "id": "e708a6c5",
   "metadata": {},
   "outputs": [],
   "source": [
    "# work with data\n",
    "import pandas as pd\n",
    "import numpy as np\n",
    "\n",
    "# train_test_split library\n",
    "from sklearn.model_selection import train_test_split\n",
    "\n",
    "# algorithm\n",
    "from sklearn.tree import DecisionTreeRegressor\n",
    "\n",
    "# pickle\n",
    "import pickle"
   ]
  },
  {
   "cell_type": "markdown",
   "id": "98e5683c",
   "metadata": {},
   "source": [
    "<h2 align=\"center\" style=\"color:white;background-color:#30AADD;padding:20px;border-radius:10px;font-family:Montserrat\"> \n",
    "    Import Dataset \n",
    "</h2>"
   ]
  },
  {
   "cell_type": "code",
   "execution_count": 445,
   "id": "44932a92",
   "metadata": {},
   "outputs": [],
   "source": [
    "# read dataset from sepecific folder\n",
    "\n",
    "inputs = pd.read_csv(\"../../processed_data/prediction/processed_yield_prediction_inputs.csv\")\n",
    "outputs = pd.read_csv(\"../../processed_data/prediction/processed_yield_prediction_outputs.csv\")"
   ]
  },
  {
   "cell_type": "code",
   "execution_count": 446,
   "id": "1d8b45fd",
   "metadata": {},
   "outputs": [],
   "source": [
    "# trim first column\n",
    "\n",
    "inputs = inputs.iloc[: , 1:]\n",
    "outputs = outputs.iloc[: , 1:]"
   ]
  },
  {
   "cell_type": "code",
   "execution_count": 447,
   "id": "96af5402",
   "metadata": {},
   "outputs": [
    {
     "data": {
      "text/html": [
       "<div>\n",
       "<style scoped>\n",
       "    .dataframe tbody tr th:only-of-type {\n",
       "        vertical-align: middle;\n",
       "    }\n",
       "\n",
       "    .dataframe tbody tr th {\n",
       "        vertical-align: top;\n",
       "    }\n",
       "\n",
       "    .dataframe thead th {\n",
       "        text-align: right;\n",
       "    }\n",
       "</style>\n",
       "<table border=\"1\" class=\"dataframe\">\n",
       "  <thead>\n",
       "    <tr style=\"text-align: right;\">\n",
       "      <th></th>\n",
       "      <th>Area</th>\n",
       "      <th>State_Name_Converted</th>\n",
       "      <th>Season_Converted</th>\n",
       "      <th>Crop_Converted</th>\n",
       "      <th>Soil_Type_Converted</th>\n",
       "    </tr>\n",
       "  </thead>\n",
       "  <tbody>\n",
       "    <tr>\n",
       "      <th>0</th>\n",
       "      <td>1254.0</td>\n",
       "      <td>0</td>\n",
       "      <td>1</td>\n",
       "      <td>0</td>\n",
       "      <td>2</td>\n",
       "    </tr>\n",
       "    <tr>\n",
       "      <th>1</th>\n",
       "      <td>1254.0</td>\n",
       "      <td>0</td>\n",
       "      <td>1</td>\n",
       "      <td>0</td>\n",
       "      <td>2</td>\n",
       "    </tr>\n",
       "    <tr>\n",
       "      <th>2</th>\n",
       "      <td>1258.0</td>\n",
       "      <td>0</td>\n",
       "      <td>4</td>\n",
       "      <td>0</td>\n",
       "      <td>2</td>\n",
       "    </tr>\n",
       "    <tr>\n",
       "      <th>3</th>\n",
       "      <td>1261.0</td>\n",
       "      <td>0</td>\n",
       "      <td>4</td>\n",
       "      <td>0</td>\n",
       "      <td>2</td>\n",
       "    </tr>\n",
       "    <tr>\n",
       "      <th>4</th>\n",
       "      <td>1264.7</td>\n",
       "      <td>0</td>\n",
       "      <td>4</td>\n",
       "      <td>0</td>\n",
       "      <td>2</td>\n",
       "    </tr>\n",
       "    <tr>\n",
       "      <th>...</th>\n",
       "      <td>...</td>\n",
       "      <td>...</td>\n",
       "      <td>...</td>\n",
       "      <td>...</td>\n",
       "      <td>...</td>\n",
       "    </tr>\n",
       "    <tr>\n",
       "      <th>23315</th>\n",
       "      <td>5345.0</td>\n",
       "      <td>14</td>\n",
       "      <td>1</td>\n",
       "      <td>6</td>\n",
       "      <td>3</td>\n",
       "    </tr>\n",
       "    <tr>\n",
       "      <th>23316</th>\n",
       "      <td>5159.0</td>\n",
       "      <td>14</td>\n",
       "      <td>1</td>\n",
       "      <td>6</td>\n",
       "      <td>3</td>\n",
       "    </tr>\n",
       "    <tr>\n",
       "      <th>23317</th>\n",
       "      <td>6088.0</td>\n",
       "      <td>14</td>\n",
       "      <td>1</td>\n",
       "      <td>6</td>\n",
       "      <td>3</td>\n",
       "    </tr>\n",
       "    <tr>\n",
       "      <th>23318</th>\n",
       "      <td>6599.0</td>\n",
       "      <td>14</td>\n",
       "      <td>1</td>\n",
       "      <td>6</td>\n",
       "      <td>3</td>\n",
       "    </tr>\n",
       "    <tr>\n",
       "      <th>23319</th>\n",
       "      <td>500.0</td>\n",
       "      <td>14</td>\n",
       "      <td>1</td>\n",
       "      <td>6</td>\n",
       "      <td>3</td>\n",
       "    </tr>\n",
       "  </tbody>\n",
       "</table>\n",
       "<p>23320 rows × 5 columns</p>\n",
       "</div>"
      ],
      "text/plain": [
       "         Area  State_Name_Converted  Season_Converted  Crop_Converted  \\\n",
       "0      1254.0                     0                 1               0   \n",
       "1      1254.0                     0                 1               0   \n",
       "2      1258.0                     0                 4               0   \n",
       "3      1261.0                     0                 4               0   \n",
       "4      1264.7                     0                 4               0   \n",
       "...       ...                   ...               ...             ...   \n",
       "23315  5345.0                    14                 1               6   \n",
       "23316  5159.0                    14                 1               6   \n",
       "23317  6088.0                    14                 1               6   \n",
       "23318  6599.0                    14                 1               6   \n",
       "23319   500.0                    14                 1               6   \n",
       "\n",
       "       Soil_Type_Converted  \n",
       "0                        2  \n",
       "1                        2  \n",
       "2                        2  \n",
       "3                        2  \n",
       "4                        2  \n",
       "...                    ...  \n",
       "23315                    3  \n",
       "23316                    3  \n",
       "23317                    3  \n",
       "23318                    3  \n",
       "23319                    3  \n",
       "\n",
       "[23320 rows x 5 columns]"
      ]
     },
     "execution_count": 447,
     "metadata": {},
     "output_type": "execute_result"
    }
   ],
   "source": [
    "# print\n",
    "\n",
    "inputs"
   ]
  },
  {
   "cell_type": "code",
   "execution_count": 448,
   "id": "b8f4a74a",
   "metadata": {},
   "outputs": [
    {
     "data": {
      "text/html": [
       "<div>\n",
       "<style scoped>\n",
       "    .dataframe tbody tr th:only-of-type {\n",
       "        vertical-align: middle;\n",
       "    }\n",
       "\n",
       "    .dataframe tbody tr th {\n",
       "        vertical-align: top;\n",
       "    }\n",
       "\n",
       "    .dataframe thead th {\n",
       "        text-align: right;\n",
       "    }\n",
       "</style>\n",
       "<table border=\"1\" class=\"dataframe\">\n",
       "  <thead>\n",
       "    <tr style=\"text-align: right;\">\n",
       "      <th></th>\n",
       "      <th>Production</th>\n",
       "    </tr>\n",
       "  </thead>\n",
       "  <tbody>\n",
       "    <tr>\n",
       "      <th>0</th>\n",
       "      <td>2000.00</td>\n",
       "    </tr>\n",
       "    <tr>\n",
       "      <th>1</th>\n",
       "      <td>2061.00</td>\n",
       "    </tr>\n",
       "    <tr>\n",
       "      <th>2</th>\n",
       "      <td>2083.00</td>\n",
       "    </tr>\n",
       "    <tr>\n",
       "      <th>3</th>\n",
       "      <td>1525.00</td>\n",
       "    </tr>\n",
       "    <tr>\n",
       "      <th>4</th>\n",
       "      <td>805.85</td>\n",
       "    </tr>\n",
       "    <tr>\n",
       "      <th>...</th>\n",
       "      <td>...</td>\n",
       "    </tr>\n",
       "    <tr>\n",
       "      <th>23315</th>\n",
       "      <td>5960.00</td>\n",
       "    </tr>\n",
       "    <tr>\n",
       "      <th>23316</th>\n",
       "      <td>5543.00</td>\n",
       "    </tr>\n",
       "    <tr>\n",
       "      <th>23317</th>\n",
       "      <td>8493.00</td>\n",
       "    </tr>\n",
       "    <tr>\n",
       "      <th>23318</th>\n",
       "      <td>7842.00</td>\n",
       "    </tr>\n",
       "    <tr>\n",
       "      <th>23319</th>\n",
       "      <td>500.00</td>\n",
       "    </tr>\n",
       "  </tbody>\n",
       "</table>\n",
       "<p>23320 rows × 1 columns</p>\n",
       "</div>"
      ],
      "text/plain": [
       "       Production\n",
       "0         2000.00\n",
       "1         2061.00\n",
       "2         2083.00\n",
       "3         1525.00\n",
       "4          805.85\n",
       "...           ...\n",
       "23315     5960.00\n",
       "23316     5543.00\n",
       "23317     8493.00\n",
       "23318     7842.00\n",
       "23319      500.00\n",
       "\n",
       "[23320 rows x 1 columns]"
      ]
     },
     "execution_count": 448,
     "metadata": {},
     "output_type": "execute_result"
    }
   ],
   "source": [
    "# print\n",
    "\n",
    "outputs"
   ]
  },
  {
   "cell_type": "code",
   "execution_count": 449,
   "id": "c2238174",
   "metadata": {},
   "outputs": [],
   "source": [
    "# mapped values from labelEncoder\n",
    "\n",
    "state_map = {\n",
    " 0: 'Andaman and Nicobar Islands',\n",
    " 1: 'Andhra Pradesh',\n",
    " 2: 'Arunachal Pradesh',\n",
    " 3: 'Assam',\n",
    " 4: 'Bihar',\n",
    " 5: 'Chhattisgarh',\n",
    " 6: 'Dadra and Nagar Haveli',\n",
    " 7: 'Goa',\n",
    " 8: 'Gujarat',\n",
    " 9: 'Haryana',\n",
    " 10: 'Himachal Pradesh',\n",
    " 11: 'Jammu and Kashmir ',\n",
    " 12: 'Karnataka',\n",
    " 13: 'Kerala',\n",
    " 14: 'Madhya Pradesh',\n",
    " 15: 'Maharashtra',\n",
    " 16: 'Manipur',\n",
    " 17: 'Meghalaya',\n",
    " 18: 'Mizoram',\n",
    " 19: 'Nagaland',\n",
    " 20: 'Odisha',\n",
    " 21: 'Puducherry',\n",
    " 22: 'Punjab',\n",
    " 23: 'Rajasthan',\n",
    " 24: 'Tamil Nadu',\n",
    " 25: 'Telangana',\n",
    " 26: 'Tripura',\n",
    " 27: 'Uttar Pradesh',\n",
    " 28: 'Uttarakhand',\n",
    " 29: 'West Bengal'\n",
    "}\n",
    "\n",
    "season_map = {\n",
    " 0: 'Autumn',\n",
    " 1: 'Kharif',\n",
    " 2: 'Rabi',\n",
    " 3: 'Summer',\n",
    " 4: 'Whole Year',\n",
    " 5: 'Winter'\n",
    "}\n",
    "\n",
    "crop_map = {\n",
    " 0: 'Arecanut', \n",
    " 1: 'Banana',\n",
    " 2: 'Coconut',\n",
    " 3: 'Cotton (lint)',\n",
    " 4: 'Dry chillies',\n",
    " 5: 'Dry ginger',\n",
    " 6: 'Groundnut'\n",
    "}\n",
    "\n",
    "soil_map = {\n",
    " 0: 'Laterite',\n",
    " 1: 'loamy',\n",
    " 2: 'Black',\n",
    " 3: 'Clayey',\n",
    " 4: 'Sandy'\n",
    "}\n"
   ]
  },
  {
   "cell_type": "markdown",
   "id": "97f1df14",
   "metadata": {},
   "source": [
    "<h2 align=\"center\" style=\"color:white;background-color:#30AADD;padding:20px;border-radius:10px;font-family:Montserrat\"> \n",
    "    Apply NB Algorithm\n",
    "</h2>"
   ]
  },
  {
   "cell_type": "markdown",
   "id": "7c96d529",
   "metadata": {},
   "source": [
    "<h4 align=\"left\" style=\"color:white;background-color:#94DAFF;padding:20px;margin-top:40px;border-radius:10px;font-family:Montserrat;display:inline-block;width:500px\"> \n",
    "    Utility class\n",
    "</h4>"
   ]
  },
  {
   "cell_type": "code",
   "execution_count": 450,
   "id": "372e69e2",
   "metadata": {},
   "outputs": [],
   "source": [
    "class c:\n",
    "    HEADER      = '\\033[95m'\n",
    "    BLUE        = '\\033[94m'\n",
    "    CYAN        = '\\033[96m'\n",
    "    GREEN       = '\\033[92m'\n",
    "    WARNING     = '\\033[93m'\n",
    "    FAIL        = '\\033[91m'\n",
    "    ENDC        = '\\033[0m'\n",
    "    BOLD        = '\\033[1m'\n",
    "    UNDERLINE   = '\\033[4m'"
   ]
  },
  {
   "cell_type": "markdown",
   "id": "76e421d8",
   "metadata": {},
   "source": [
    "<h4 align=\"left\" style=\"color:white;background-color:#94DAFF;padding:20px;margin-top:40px;border-radius:10px;font-family:Montserrat;display:inline-block;width:500px\"> \n",
    "    Split data into training (70%) and testing (30%) sets\n",
    "</h4>"
   ]
  },
  {
   "cell_type": "code",
   "execution_count": 451,
   "id": "a29fd6f5",
   "metadata": {},
   "outputs": [],
   "source": [
    "# split into 70% train and 30% test\n",
    "\n",
    "X_train, X_test, y_train, y_test = train_test_split(inputs, outputs, test_size = 0.33)"
   ]
  },
  {
   "cell_type": "markdown",
   "id": "5d76c3af",
   "metadata": {},
   "source": [
    "<h4 align=\"left\" style=\"color:white;background-color:#94DAFF;padding:20px;margin-top:40px;border-radius:10px;font-family:Montserrat;display:inline-block;width:500px\"> \n",
    "    Create object\n",
    "</h4>"
   ]
  },
  {
   "cell_type": "code",
   "execution_count": 452,
   "id": "9585a7c3",
   "metadata": {},
   "outputs": [],
   "source": [
    "# create object of algorithm class and store in 'reg' variable\n",
    "\n",
    "reg = DecisionTreeRegressor(random_state = 42)"
   ]
  },
  {
   "cell_type": "markdown",
   "id": "1081cc6d",
   "metadata": {},
   "source": [
    "<h4 align=\"left\" style=\"color:white;background-color:#94DAFF;padding:20px;margin-top:40px;border-radius:10px;font-family:Montserrat;display:inline-block;width:500px\"> \n",
    "    Train on training data\n",
    "</h4>"
   ]
  },
  {
   "cell_type": "code",
   "execution_count": 453,
   "id": "6d10b209",
   "metadata": {},
   "outputs": [
    {
     "data": {
      "text/plain": [
       "DecisionTreeRegressor(random_state=42)"
      ]
     },
     "execution_count": 453,
     "metadata": {},
     "output_type": "execute_result"
    }
   ],
   "source": [
    "# fitting means training the model using available data points\n",
    "\n",
    "reg.fit(X_train, y_train)"
   ]
  },
  {
   "cell_type": "markdown",
   "id": "7430ca64",
   "metadata": {},
   "source": [
    "<h4 align=\"left\" style=\"color:white;background-color:#94DAFF;padding:20px;margin-top:40px;border-radius:10px;font-family:Montserrat;display:inline-block;width:500px\"> \n",
    "    Get recommendation on testing data\n",
    "</h4>"
   ]
  },
  {
   "cell_type": "code",
   "execution_count": 454,
   "id": "e4bc1819",
   "metadata": {},
   "outputs": [
    {
     "name": "stdout",
     "output_type": "stream",
     "text": [
      "\n",
      "\n",
      "Area,\tState_Name,\tSeason,\tCrop,   Soil_Type\n",
      "\n",
      "\u001b[1m['5624.0', 'Karnataka', 'Whole Year', 'Coconut', 'Clayey']\u001b[0m\n",
      "\u001b[1m['66.0', 'Madhya Pradesh', 'Kharif', 'Dry ginger', 'loamy']\u001b[0m\n",
      "\u001b[1m['28033.0', 'Madhya Pradesh', 'Kharif', 'Cotton (lint)', 'Laterite']\u001b[0m\n",
      "\u001b[1m['1225.0', 'Assam', 'Whole Year', 'Coconut', 'Clayey']\u001b[0m\n",
      "\u001b[1m['12594.0', 'Karnataka', 'Rabi', 'Groundnut', 'Clayey']\u001b[0m\n",
      "\n",
      "\n",
      "Production in Kg\n",
      "\n",
      "\u001b[1m57116.0 Kg\u001b[0m\n",
      "\u001b[1m90.0 Kg\u001b[0m\n",
      "\u001b[1m44030.0 Kg\u001b[0m\n",
      "\u001b[1m8118.0 Kg\u001b[0m\n",
      "\u001b[1m10342.0 Kg\u001b[0m\n"
     ]
    }
   ],
   "source": [
    "# predict using testing data\n",
    "recommendation = reg.predict(X_test)\n",
    "\n",
    "inp = []\n",
    "oup = []\n",
    "cnt = 0\n",
    "\n",
    "for x in X_test:\n",
    "    col = []\n",
    "    if(x == 'State_Name_Converted'):\n",
    "        for y in X_test.State_Name_Converted:\n",
    "            col.append(state_map[y])\n",
    "    elif(x == 'Season_Converted'):\n",
    "        for y in X_test.Season_Converted:\n",
    "            col.append(season_map[y])\n",
    "    elif(x == 'Crop_Converted'):\n",
    "        for y in X_test.Crop_Converted:\n",
    "            col.append(crop_map[y])\n",
    "    elif(x == 'Soil_Type_Converted'):\n",
    "        for y in X_test.Soil_Type_Converted:\n",
    "            col.append(soil_map[y])\n",
    "    else:\n",
    "        for y in X_test.Area:\n",
    "            col.append(y)\n",
    "    inp.append(col)\n",
    "\n",
    "inp = np.array(inp).T.tolist()\n",
    "\n",
    "#===================== Print input =====================# \n",
    "print(f\"\\n\\nArea,\\tState_Name,\\tSeason,\\tCrop,   Soil_Type\\n\")\n",
    "for x in inp:\n",
    "    cnt += 1\n",
    "    if (cnt == 6):\n",
    "        break\n",
    "    print(f\"{c.BOLD}{x}{c.ENDC}\")\n",
    "\n",
    "#===================== Print output =====================# \n",
    "print(\"\\n\\nProduction in Kg\\n\")\n",
    "cnt = 0\n",
    "for x in recommendation:\n",
    "    cnt += 1\n",
    "    if(cnt == 6):\n",
    "        break\n",
    "    print(f\"{c.BOLD}{(round(x,2))} Kg{c.ENDC}\")"
   ]
  },
  {
   "cell_type": "markdown",
   "id": "b9f02384",
   "metadata": {},
   "source": [
    "<h4 align=\"left\" style=\"color:white;background-color:#94DAFF;padding:20px;margin-top:40px;border-radius:10px;font-family:Montserrat;display:inline-block;width:500px\"> \n",
    "    Accuracy of model\n",
    "</h4>"
   ]
  },
  {
   "cell_type": "code",
   "execution_count": 455,
   "id": "e08f2e89",
   "metadata": {},
   "outputs": [
    {
     "name": "stdout",
     "output_type": "stream",
     "text": [
      "\n",
      "Accuracy of Naive Bayes algorithm is: \u001b[1m88.72 %\u001b[0m\n",
      "\n"
     ]
    }
   ],
   "source": [
    "accuracy = reg.score(X_test, y_test)\n",
    "\n",
    "print(f\"\\nAccuracy of Naive Bayes algorithm is: {c.BOLD}{round(accuracy * 100.0, 2)} %{c.ENDC}\\n\")"
   ]
  },
  {
   "cell_type": "markdown",
   "id": "37734a10",
   "metadata": {},
   "source": [
    "<h4 align=\"left\" style=\"color:white;background-color:#94DAFF;padding:20px;margin-top:40px;border-radius:10px;font-family:Montserrat;display:inline-block;width:500px\"> \n",
    "    Export model using pickle\n",
    "</h4>"
   ]
  },
  {
   "cell_type": "code",
   "execution_count": 456,
   "id": "d70db232",
   "metadata": {},
   "outputs": [],
   "source": [
    "with open('../../model/prediction/DT_MODEL', 'wb') as f:\n",
    "    pickle.dump(reg, f)"
   ]
  },
  {
   "cell_type": "code",
   "execution_count": null,
   "id": "a1bc8da8",
   "metadata": {},
   "outputs": [],
   "source": []
  }
 ],
 "metadata": {
  "kernelspec": {
   "display_name": "Python 3 (ipykernel)",
   "language": "python",
   "name": "python3"
  },
  "language_info": {
   "codemirror_mode": {
    "name": "ipython",
    "version": 3
   },
   "file_extension": ".py",
   "mimetype": "text/x-python",
   "name": "python",
   "nbconvert_exporter": "python",
   "pygments_lexer": "ipython3",
   "version": "3.9.7"
  }
 },
 "nbformat": 4,
 "nbformat_minor": 5
}
